{
 "cells": [
  {
   "cell_type": "code",
   "execution_count": 5,
   "metadata": {
    "collapsed": true
   },
   "outputs": [],
   "source": [
    "# Gen mini dict base on https://ai.tencent.com/ailab/nlp/embedding.html\n",
    "# https://blog.csdn.net/chinatelecom08/article/details/84588071\n",
    "#Adjust the working folder\n",
    "import sys\n",
    "import os\n",
    "#print(globals())\n",
    "file_folder = globals()['_dh'][0]\n",
    "wk_dir = os.path.dirname(file_folder)\n",
    "os.chdir(wk_dir)\n",
    "\n",
    "import pandas as pd\n",
    "# from code_felix.utils_.util_pandas import *\n",
    "# from code_felix.feature.read_file import *\n",
    "# from code_felix.feature.category import *\n",
    "import matplotlib.pyplot as plt\n",
    "# from code_felix.feature.read_file import _get_transaction, _summary_card_trans_col\n"
   ]
  },
  {
   "cell_type": "code",
   "execution_count": 6,
   "metadata": {},
   "outputs": [
    {
     "name": "stderr",
     "output_type": "stream",
     "text": [
      "100%|██████████| 20000/20000 [00:00<00:00, 51156.38it/s]\n"
     ]
    }
   ],
   "source": [
    "from tqdm import tqdm\n",
    "\n",
    "word2vec_model = './input/Tencent_AILab_ChineseEmbedding/Tencent_AILab_ChineseEmbedding.txt'\n",
    "def gendict(inputFile, ouputFile):\n",
    "    output_f = open(ouputFile, 'a', encoding='utf8')\n",
    "    with open(inputFile, \"r\", encoding='ISO-8859-1') as f:\n",
    "        header = f.readline()\n",
    "        vocab_size, vector_size = map(int, header.split())\n",
    "        for i in tqdm(range(vocab_size)):\n",
    "            line = f.readline()\n",
    "            lists = line.split(' ')\n",
    "            word = lists[0]\n",
    "            try: \n",
    "                word = word.encode('ISO-8859-1').decode('utf8')\n",
    "                output_f.write(word+'\\n')\n",
    "            except: pass\n",
    "        output_f.close()\n",
    "        f.close()\n",
    "        \n",
    "gendict(word2vec_model, './input/jieba.txt')  \n"
   ]
  },
  {
   "cell_type": "code",
   "execution_count": null,
   "metadata": {
    "collapsed": true
   },
   "outputs": [],
   "source": []
  }
 ],
 "metadata": {
  "kernelspec": {
   "display_name": "Python 3",
   "language": "python",
   "name": "python3"
  },
  "language_info": {
   "codemirror_mode": {
    "name": "ipython",
    "version": 3
   },
   "file_extension": ".py",
   "mimetype": "text/x-python",
   "name": "python",
   "nbconvert_exporter": "python",
   "pygments_lexer": "ipython3",
   "version": "3.6.3"
  }
 },
 "nbformat": 4,
 "nbformat_minor": 2
}
