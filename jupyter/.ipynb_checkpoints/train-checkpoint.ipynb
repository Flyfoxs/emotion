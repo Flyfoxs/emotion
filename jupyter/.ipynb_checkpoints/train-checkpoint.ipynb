{
 "cells": [
  {
   "cell_type": "code",
   "execution_count": 1,
   "metadata": {},
   "outputs": [
    {
     "name": "stderr",
     "output_type": "stream",
     "text": [
      "2019-01-02 13:56:54,450 util_log.py[61] DEBUG Start the program at:LALI2-M-G0MD, 127.0.0.1, with:Load module\n"
     ]
    }
   ],
   "source": [
    "#Adjust the working folder\n",
    "import sys\n",
    "import os\n",
    "#print(globals())\n",
    "file_folder = globals()['_dh'][0]\n",
    "wk_dir = os.path.dirname(file_folder)\n",
    "os.chdir(wk_dir)\n",
    "\n",
    "import pandas as pd\n",
    "\n",
    "from code_felix.core.config import *\n",
    "from file_cache.utils.util_log import *\n",
    "\n",
    "import matplotlib.pyplot as plt\n",
    "\n",
    "\n",
    "plt.rcParams['font.sans-serif'] = ['SimHei']  # 用来正常显示中文标签\n",
    "plt.rcParams['axes.unicode_minus'] = False  # 用来正常显示负号"
   ]
  },
  {
   "cell_type": "code",
   "execution_count": 12,
   "metadata": {},
   "outputs": [],
   "source": [
    "import jieba\n",
    "from functools import lru_cache\n",
    "@timed()\n",
    "@lru_cache()\n",
    "def load_jeba_userdict():\n",
    "    jieba.load_userdict('./input/jieba.txt')\n",
    "    \n",
    "\n",
    "@timed()\n",
    "def get_word_freqs():\n",
    "\n",
    "    import collections\n",
    "    word_freqs = collections.Counter()\n",
    "\n",
    "    for file in [train_file, test_file]:\n",
    "        df = pd.read_csv(file, encoding='gb18030', delimiter='\\t', header=None)\n",
    "        for sentence in df.iloc[:,2].values.tolist():\n",
    "            for word in jieba.cut(str(sentence), cut_all = False):\n",
    "                word_freqs[word] +=1\n",
    "    return word_freqs\n",
    "     "
   ]
  },
  {
   "cell_type": "code",
   "execution_count": 18,
   "metadata": {},
   "outputs": [
    {
     "name": "stderr",
     "output_type": "stream",
     "text": [
      "2019-01-02 14:23:56,852 util_log.py[41] INFO load_jeba_userdict begin with(0 paras) :[], []\n",
      "2019-01-02 14:23:56,857 util_log.py[49] INFO load_jeba_userdict cost    0.01 sec:(0 paras)([], []), return:NoneType, end \n",
      "2019-01-02 14:23:56,859 util_log.py[41] INFO get_word_freqs begin with(0 paras) :[], []\n",
      "2019-01-02 14:24:07,413 util_log.py[49] INFO get_word_freqs cost   10.55 sec:(0 paras)([], []), return:Counter, end \n"
     ]
    }
   ],
   "source": [
    "   \n",
    "load_jeba_userdict()\n",
    "count = get_word_freqs()"
   ]
  },
  {
   "cell_type": "code",
   "execution_count": null,
   "metadata": {
    "collapsed": true
   },
   "outputs": [],
   "source": []
  }
 ],
 "metadata": {
  "kernelspec": {
   "display_name": "Python 3",
   "language": "python",
   "name": "python3"
  },
  "language_info": {
   "codemirror_mode": {
    "name": "ipython",
    "version": 3
   },
   "file_extension": ".py",
   "mimetype": "text/x-python",
   "name": "python",
   "nbconvert_exporter": "python",
   "pygments_lexer": "ipython3",
   "version": "3.6.3"
  }
 },
 "nbformat": 4,
 "nbformat_minor": 2
}
